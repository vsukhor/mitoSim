{
 "cells": [
  {
   "cell_type": "markdown",
   "metadata": {},
   "source": [
    "### Analysis of deterministc approximation to the mitochondrial graph\n",
    "\n",
    "Functionality of this notebook is similar to the accompanying python [script](./ode.py).  \n",
    "Please feel free to adjust any of them to your needs.\n",
    "\n",
    "Time-dependent behaviour of the mitochondria network can be represented as a system of differential-algebraic equations for the number of nodes $x_i$ of degrees $i$ = 1 to 3:  \n",
    "\\begin{array} \n",
    "\\dot{x_1} = -a_2x_1x_2 + (3/2)bx_3 - a_1x_1(x_1-1) + 2bx_2 \\\\\n",
    "\\dot{x_2} = a_2x_1x_2 - (3/2)bx_3 \\\\\n",
    "x_1 + 2x_2 +3x_3 = 2L\n",
    "\\end{array}\n",
    "where $a_1$, $a_2$ and $b$ are ratec onstants for bulk fusion, side fusion and fission respectively. "
   ]
  },
  {
   "cell_type": "code",
   "execution_count": null,
   "metadata": {
    "scrolled": true
   },
   "outputs": [],
   "source": [
    "# uncomment to plot into separate windows\n",
    "#%matplotlib   \n",
    "\n",
    "import math\n",
    "import numpy as np\n",
    "from odes import node_numbers_equil, \\\n",
    "                 plot_node_numbers, \\\n",
    "                 plot_phase_equil, \\\n",
    "                 is_stable, \\\n",
    "                 plot_stability, \\\n",
    "                 plot_time_evol"
   ]
  },
  {
   "cell_type": "code",
   "execution_count": null,
   "metadata": {},
   "outputs": [],
   "source": [
    "# Initialize the parameters:\n",
    "\n",
    "def a(m):\n",
    "     \"\"\"Initialize fusion rate constants.\"\"\"\n",
    "     init = -np.floor(2 * m / 3)\n",
    "     return np.logspace(init, init + m - 1, num=m, base=2)\n",
    "\n",
    "m1, m2, mL = 57, 57, 1        # grid dimensions\n",
    "b = 1                         # fission rate constant\n",
    "a1, a2 = a(m1), a(m2)         # fusion rate constant\n",
    "c1, c2 = a1/b, a2/b           # reduced rates\n",
    "\n",
    "L = [10000, 30000]            # total number of edges in the graph"
   ]
  },
  {
   "cell_type": "markdown",
   "metadata": {},
   "source": [
    "#### The Steady state\n",
    "\n",
    "Find the equilibrium solution as $t\\rightarrow+\\infty$  \n",
    "using reduced parameters $c_1 = a_1/b$, $c_2 = a_2/b$:\n",
    "\\begin{align}\n",
    "& 0 = c_1c_2x_1^3 + c_1(1 - c_2)x_1^2 + (1 - c_1)x_1 - 2L \\\\\n",
    "& x_2 = c_1x_1(x_1 - 1)/2 \\\\\n",
    "& x_3 = 2c_2x_1x_2/3\n",
    "\\end{align}\n",
    "\n",
    "and plot it."
   ]
  },
  {
   "cell_type": "code",
   "execution_count": null,
   "metadata": {},
   "outputs": [],
   "source": [
    "x = [[[node_numbers_equil(cc1, cc2, l) for cc1 in c1] for cc2 in c2] for l in L]"
   ]
  },
  {
   "cell_type": "code",
   "execution_count": null,
   "metadata": {
    "scrolled": true
   },
   "outputs": [],
   "source": [
    "[plot_node_numbers(c1, c2, l, xx, figsize=(15, 5)) for xx, l in zip(x, L)];"
   ]
  },
  {
   "cell_type": "markdown",
   "metadata": {},
   "source": [
    "Plot the solution in phase coordinates:"
   ]
  },
  {
   "cell_type": "code",
   "execution_count": null,
   "metadata": {},
   "outputs": [],
   "source": [
    "plot_phase_equil(x, c1, L, figsize=(10,10))"
   ]
  },
  {
   "cell_type": "markdown",
   "metadata": {},
   "source": [
    "Examine the solution.\n",
    "The equilibrium is asymptotically stable if real parts of all eigenvalues of the Jacobian are strictly negative."
   ]
  },
  {
   "cell_type": "code",
   "execution_count": null,
   "metadata": {
    "scrolled": false
   },
   "outputs": [],
   "source": [
    "st = [is_stable(xx, b, a1, a2, l) for xx, l in zip(x, L)]"
   ]
  },
  {
   "cell_type": "markdown",
   "metadata": {},
   "source": [
    "Plot the stability map indicating stable and unstable solutions with blue and red markers respectively:"
   ]
  },
  {
   "cell_type": "code",
   "execution_count": null,
   "metadata": {
    "scrolled": false
   },
   "outputs": [],
   "source": [
    "[plot_stability(b, c1, c2, l, s) for s, l in zip(st, L)];"
   ]
  },
  {
   "cell_type": "markdown",
   "metadata": {},
   "source": [
    "#### Ttransient bechavior\n",
    "\n",
    "Slove the ODEs directly for specific parameters and plot the results:"
   ]
  },
  {
   "cell_type": "code",
   "execution_count": null,
   "metadata": {
    "scrolled": true
   },
   "outputs": [],
   "source": [
    "import scipy.integrate as spi\n",
    "from odes import eqs, x2\n",
    "\n",
    "Lt = L[0]                                   # graph total mass (in edges)\n",
    "bt = b                                      # fission rate constant\n",
    "a1t = a1[20]                                # end-to-end fusion rate constant\n",
    "a2t = a2[30]                                # end-to-side fusion rate constant\n",
    "tspan = [0., 20.]                           # time interval\n",
    "tsol = np.linspace(tspan[0], tspan[1], 100) # time points for plotting\n",
    "# initial values:\n",
    "x1_0 = np.linspace(0, Lt, 10)\n",
    "x3_0 = (Lt - x1_0) / 2\n",
    "\n",
    "x123 = []\n",
    "for x10, x30 in zip(x1_0, x3_0):\n",
    "    # new scipy ivp solver: requires scipy >= 1.4:\n",
    "    sol = spi.solve_ivp(eqs, t_span=tspan, y0=[x10, x30], args=(b, a1t, a2t, Lt), dense_output=True)\n",
    "    x13 = sol.sol(tsol)\n",
    "    x123.append([x13[0,:], x2(x13, Lt), x13[1,:]])"
   ]
  },
  {
   "cell_type": "code",
   "execution_count": null,
   "metadata": {
    "scrolled": true
   },
   "outputs": [],
   "source": [
    "plot_time_evol(b, a1t, a2t, Lt, x123, tsol, figsize=(16, 5))"
   ]
  },
  {
   "cell_type": "code",
   "execution_count": null,
   "metadata": {},
   "outputs": [],
   "source": []
  }
 ],
 "metadata": {
  "kernelspec": {
   "display_name": "Python 3",
   "language": "python",
   "name": "python3"
  },
  "language_info": {
   "codemirror_mode": {
    "name": "ipython",
    "version": 3
   },
   "file_extension": ".py",
   "mimetype": "text/x-python",
   "name": "python",
   "nbconvert_exporter": "python",
   "pygments_lexer": "ipython3",
   "version": "3.7.4"
  }
 },
 "nbformat": 4,
 "nbformat_minor": 2
}
